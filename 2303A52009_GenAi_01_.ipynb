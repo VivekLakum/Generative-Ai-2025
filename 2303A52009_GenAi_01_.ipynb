{
  "nbformat": 4,
  "nbformat_minor": 0,
  "metadata": {
    "colab": {
      "provenance": []
    },
    "kernelspec": {
      "name": "python3",
      "display_name": "Python 3"
    },
    "language_info": {
      "name": "python"
    }
  },
  "cells": [
    {
      "cell_type": "markdown",
      "source": [
        "# Question 1"
      ],
      "metadata": {
        "id": "-bbqtPhRqlqN"
      }
    },
    {
      "cell_type": "code",
      "source": [
        "import numpy as np\n",
        "from sklearn.metrics import mean_squared_error, mean_absolute_error, r2_score\n",
        "y_act=np.array([20,30,40,50,60])\n",
        "y_pred=np.array([20.5,30.3,40.2,50.6,60.7])"
      ],
      "metadata": {
        "id": "ZHwwcLjplZ8U"
      },
      "execution_count": 4,
      "outputs": []
    },
    {
      "cell_type": "code",
      "source": [
        "# Mean Absolute Error (MAE)\n",
        "mae = np.mean(np.abs(y_act - y_pred))\n",
        "print(f\"Mean Absolute Error (MAE): {mae}\")"
      ],
      "metadata": {
        "colab": {
          "base_uri": "https://localhost:8080/"
        },
        "id": "9rN3pscCjyON",
        "outputId": "b6d1a18a-5dcf-4fc7-e5da-e184b59aa597"
      },
      "execution_count": 6,
      "outputs": [
        {
          "output_type": "stream",
          "name": "stdout",
          "text": [
            "Mean Absolute Error (MAE): 0.4600000000000016\n"
          ]
        }
      ]
    },
    {
      "cell_type": "code",
      "source": [
        "mse = np.mean((y_act - y_pred) ** 2)\n",
        "print(f\"Mean Squared Error (MSE): {mse}\")"
      ],
      "metadata": {
        "colab": {
          "base_uri": "https://localhost:8080/"
        },
        "id": "UXQfL9zCjyCC",
        "outputId": "07b41f22-e73b-4657-b239-24dd017490e5"
      },
      "execution_count": 10,
      "outputs": [
        {
          "output_type": "stream",
          "name": "stdout",
          "text": [
            "Mean Squared Error (MSE): 0.24600000000000147\n"
          ]
        }
      ]
    },
    {
      "cell_type": "code",
      "source": [
        "# Root Mean Square Error (RMSE)\n",
        "rmse = np.sqrt(mse)\n",
        "print(f\"Root Mean Square Error (RMSE): {rmse}\")"
      ],
      "metadata": {
        "colab": {
          "base_uri": "https://localhost:8080/"
        },
        "id": "MetV050wnH5Z",
        "outputId": "0e2f8eb8-a75c-4382-ce08-b28593edcda8"
      },
      "execution_count": 12,
      "outputs": [
        {
          "output_type": "stream",
          "name": "stdout",
          "text": [
            "Root Mean Square Error (RMSE): 0.49598387070549127\n"
          ]
        }
      ]
    },
    {
      "cell_type": "code",
      "source": [
        "# Mean Absolute Percentage Error (MAPE)\n",
        "mape = np.mean(np.abs((y_act - y_pred) / y_act)) * 100\n",
        "print(f\"Mean Absolute Percentage Error (MAPE): {mape}\")"
      ],
      "metadata": {
        "colab": {
          "base_uri": "https://localhost:8080/"
        },
        "id": "oIjVgqncoIfu",
        "outputId": "44916ffb-4f30-41f0-b159-db8a77a4fb67"
      },
      "execution_count": 14,
      "outputs": [
        {
          "output_type": "stream",
          "name": "stdout",
          "text": [
            "Mean Absolute Percentage Error (MAPE): 1.273333333333337\n"
          ]
        }
      ]
    },
    {
      "cell_type": "code",
      "source": [
        "#R square value\n",
        "r2 = r2_score(y_act, y_pred)\n",
        "print(f\"R-squared (R2): {r2}\")"
      ],
      "metadata": {
        "colab": {
          "base_uri": "https://localhost:8080/"
        },
        "id": "mkPXrH0noucE",
        "outputId": "62e518c1-f167-44ff-b300-2885602baab7"
      },
      "execution_count": 15,
      "outputs": [
        {
          "output_type": "stream",
          "name": "stdout",
          "text": [
            "R-squared (R2): 0.99877\n"
          ]
        }
      ]
    },
    {
      "cell_type": "markdown",
      "source": [
        "# Question 2"
      ],
      "metadata": {
        "id": "4MmCbHIrppWo"
      }
    },
    {
      "cell_type": "code",
      "source": [],
      "metadata": {
        "id": "C4MeWatZpuEa"
      },
      "execution_count": null,
      "outputs": []
    }
  ]
}