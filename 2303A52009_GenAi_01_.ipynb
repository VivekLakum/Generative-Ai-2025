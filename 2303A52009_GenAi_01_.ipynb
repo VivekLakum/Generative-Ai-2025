{
  "nbformat": 4,
  "nbformat_minor": 0,
  "metadata": {
    "colab": {
      "provenance": [],
      "authorship_tag": "ABX9TyM0q9o+1eP/0vQZd4yIegyB",
      "include_colab_link": true
    },
    "kernelspec": {
      "name": "python3",
      "display_name": "Python 3"
    },
    "language_info": {
      "name": "python"
    }
  },
  "cells": [
    {
      "cell_type": "markdown",
      "metadata": {
        "id": "view-in-github",
        "colab_type": "text"
      },
      "source": [
        "<a href=\"https://colab.research.google.com/github/VivekLakum/Generative-Ai-2025/blob/main/2303A52009_GenAi_01_.ipynb\" target=\"_parent\"><img src=\"https://colab.research.google.com/assets/colab-badge.svg\" alt=\"Open In Colab\"/></a>"
      ]
    },
    {
      "cell_type": "markdown",
      "source": [
        "# Question 1"
      ],
      "metadata": {
        "id": "-bbqtPhRqlqN"
      }
    },
    {
      "cell_type": "code",
      "source": [
        "import numpy as np\n",
        "from sklearn.metrics import mean_squared_error, mean_absolute_error, r2_score\n",
        "y_act=np.array([20,30,40,50,60])\n",
        "y_pred=np.array([20.5,30.3,40.2,50.6,60.7])"
      ],
      "metadata": {
        "id": "ZHwwcLjplZ8U"
      },
      "execution_count": 20,
      "outputs": []
    },
    {
      "cell_type": "code",
      "source": [
        "# Mean Absolute Error (MAE)\n",
        "mae = np.mean(np.abs(y_act - y_pred))\n",
        "print(f\"Mean Absolute Error (MAE): {mae}\")"
      ],
      "metadata": {
        "colab": {
          "base_uri": "https://localhost:8080/"
        },
        "id": "9rN3pscCjyON",
        "outputId": "2bec287a-472d-4606-9028-515298f1fa95"
      },
      "execution_count": 21,
      "outputs": [
        {
          "output_type": "stream",
          "name": "stdout",
          "text": [
            "Mean Absolute Error (MAE): 0.4600000000000016\n"
          ]
        }
      ]
    },
    {
      "cell_type": "code",
      "source": [
        "mse = np.mean((y_act - y_pred) ** 2)\n",
        "print(f\"Mean Squared Error (MSE): {mse}\")"
      ],
      "metadata": {
        "colab": {
          "base_uri": "https://localhost:8080/"
        },
        "id": "UXQfL9zCjyCC",
        "outputId": "6a06eea6-4132-4c16-8dc4-f1889ffe36df"
      },
      "execution_count": 22,
      "outputs": [
        {
          "output_type": "stream",
          "name": "stdout",
          "text": [
            "Mean Squared Error (MSE): 0.24600000000000147\n"
          ]
        }
      ]
    },
    {
      "cell_type": "code",
      "source": [
        "# Root Mean Square Error (RMSE)\n",
        "rmse = np.sqrt(mse)\n",
        "print(f\"Root Mean Square Error (RMSE): {rmse}\")"
      ],
      "metadata": {
        "colab": {
          "base_uri": "https://localhost:8080/"
        },
        "id": "MetV050wnH5Z",
        "outputId": "969f576f-4c03-4df0-acc1-34bbfbcd3c5e"
      },
      "execution_count": 23,
      "outputs": [
        {
          "output_type": "stream",
          "name": "stdout",
          "text": [
            "Root Mean Square Error (RMSE): 0.49598387070549127\n"
          ]
        }
      ]
    },
    {
      "cell_type": "code",
      "source": [
        "# Mean Absolute Percentage Error (MAPE)\n",
        "mape = np.mean(np.abs((y_act - y_pred) / y_act)) * 100\n",
        "print(f\"Mean Absolute Percentage Error (MAPE): {mape}\")"
      ],
      "metadata": {
        "colab": {
          "base_uri": "https://localhost:8080/"
        },
        "id": "oIjVgqncoIfu",
        "outputId": "1bc4bdb9-0952-4f10-d48b-49f75b6d7968"
      },
      "execution_count": 24,
      "outputs": [
        {
          "output_type": "stream",
          "name": "stdout",
          "text": [
            "Mean Absolute Percentage Error (MAPE): 1.273333333333337\n"
          ]
        }
      ]
    },
    {
      "cell_type": "code",
      "source": [
        "#R square value\n",
        "r2 = r2_score(y_act, y_pred)\n",
        "print(f\"R-squared (R2): {r2}\")"
      ],
      "metadata": {
        "colab": {
          "base_uri": "https://localhost:8080/"
        },
        "id": "mkPXrH0noucE",
        "outputId": "2087856a-24c3-4124-e360-49f2b4fd0541"
      },
      "execution_count": 25,
      "outputs": [
        {
          "output_type": "stream",
          "name": "stdout",
          "text": [
            "R-squared (R2): 0.99877\n"
          ]
        }
      ]
    },
    {
      "cell_type": "markdown",
      "source": [
        "# Question 2"
      ],
      "metadata": {
        "id": "4MmCbHIrppWo"
      }
    },
    {
      "cell_type": "code",
      "source": [
        "y_act1=np.array([0,0,0,0,0])\n",
        "y_pred1=np.array([0,0,1,2,2])"
      ],
      "metadata": {
        "id": "C4MeWatZpuEa"
      },
      "execution_count": 26,
      "outputs": []
    },
    {
      "cell_type": "code",
      "source": [
        "# Mean Squared Error (MSE)\n",
        "mse1 = mean_squared_error(y_act1, y_pred1)\n",
        "print(f\"Mean Squared Error (MSE): {mse1}\")"
      ],
      "metadata": {
        "colab": {
          "base_uri": "https://localhost:8080/"
        },
        "id": "_SCr3XxAr2qk",
        "outputId": "d57763f3-580a-4f02-94c1-5bba61d0cd0a"
      },
      "execution_count": 27,
      "outputs": [
        {
          "output_type": "stream",
          "name": "stdout",
          "text": [
            "Mean Squared Error (MSE): 1.8\n"
          ]
        }
      ]
    },
    {
      "cell_type": "code",
      "source": [
        "# Root Mean Square Error (RMSE)\n",
        "rmse1 = np.sqrt(mse1)\n",
        "print(f\"Root Mean Square Error (RMSE): {rmse1}\")\n"
      ],
      "metadata": {
        "colab": {
          "base_uri": "https://localhost:8080/"
        },
        "id": "KhKTYg_ys8K4",
        "outputId": "2a56548a-240b-42cb-eb31-86d4cb49e5ed"
      },
      "execution_count": 28,
      "outputs": [
        {
          "output_type": "stream",
          "name": "stdout",
          "text": [
            "Root Mean Square Error (RMSE): 1.3416407864998738\n"
          ]
        }
      ]
    },
    {
      "cell_type": "code",
      "source": [
        "mae1 = mean_absolute_error(y_act1, y_pred1)\n",
        "print(f\"Mean Absolute Error (MAE): {mae1}\")\n"
      ],
      "metadata": {
        "colab": {
          "base_uri": "https://localhost:8080/"
        },
        "id": "DDYYihVQs-D2",
        "outputId": "ed41928e-4d23-4785-c09d-e4ffa9414277"
      },
      "execution_count": 29,
      "outputs": [
        {
          "output_type": "stream",
          "name": "stdout",
          "text": [
            "Mean Absolute Error (MAE): 1.0\n"
          ]
        }
      ]
    },
    {
      "cell_type": "code",
      "source": [
        "\n",
        "# R-squared (R2) value\n",
        "r2_1 = r2_score(y_act1, y_pred1)\n",
        "print(f\"R-squared (R2): {r2_1}\")"
      ],
      "metadata": {
        "colab": {
          "base_uri": "https://localhost:8080/"
        },
        "id": "clGhwZxdtB54",
        "outputId": "584bd0e0-7071-437b-9cd6-a1787a46fc17"
      },
      "execution_count": 30,
      "outputs": [
        {
          "output_type": "stream",
          "name": "stdout",
          "text": [
            "R-squared (R2): 0.0\n"
          ]
        }
      ]
    }
  ]
}